{
  "nbformat": 4,
  "nbformat_minor": 0,
  "metadata": {
    "colab": {
      "name": "SUBMISSION.ipynb",
      "provenance": [],
      "collapsed_sections": [],
      "toc_visible": true
    },
    "kernelspec": {
      "name": "python3",
      "display_name": "Python 3"
    }
  },
  "cells": [
    {
      "cell_type": "markdown",
      "metadata": {
        "id": "Q3kqYkMhZP_v",
        "colab_type": "text"
      },
      "source": [
        "# Profile Saya"
      ]
    },
    {
      "cell_type": "markdown",
      "metadata": {
        "id": "uoVW1zR7ZWCW",
        "colab_type": "text"
      },
      "source": [
        "Nama = Wahyu Budi Utomo\n",
        "Username = AMBISIUS\n",
        "Email = wahyu.budi.w.b33@gmail.com\n",
        "Nomor telepon = +6285259203530"
      ]
    },
    {
      "cell_type": "markdown",
      "metadata": {
        "id": "2UQafZjO0t55",
        "colab_type": "text"
      },
      "source": [
        "# Dataset"
      ]
    },
    {
      "cell_type": "markdown",
      "metadata": {
        "id": "oKjETIeLF4_K",
        "colab_type": "text"
      },
      "source": [
        "## Mengakses Dataset"
      ]
    },
    {
      "cell_type": "code",
      "metadata": {
        "id": "hBiD6covc2LS",
        "colab_type": "code",
        "colab": {
          "base_uri": "https://localhost:8080/",
          "height": 212
        },
        "outputId": "281962e3-8cf4-4a39-e087-49b0d755bc08"
      },
      "source": [
        "!wget --no-check-certificate \\\n",
        "https://dicodingacademy.blob.core.windows.net/picodiploma/ml_pemula_academy/rockpaperscissors.zip"
      ],
      "execution_count": 1,
      "outputs": [
        {
          "output_type": "stream",
          "text": [
            "--2020-09-02 17:23:55--  https://dicodingacademy.blob.core.windows.net/picodiploma/ml_pemula_academy/rockpaperscissors.zip\n",
            "Resolving dicodingacademy.blob.core.windows.net (dicodingacademy.blob.core.windows.net)... 52.239.197.36\n",
            "Connecting to dicodingacademy.blob.core.windows.net (dicodingacademy.blob.core.windows.net)|52.239.197.36|:443... connected.\n",
            "HTTP request sent, awaiting response... 200 OK\n",
            "Length: 322873683 (308M) [application/zip]\n",
            "Saving to: ‘rockpaperscissors.zip’\n",
            "\n",
            "rockpaperscissors.z 100%[===================>] 307.92M  5.59MB/s    in 61s     \n",
            "\n",
            "2020-09-02 17:24:58 (5.03 MB/s) - ‘rockpaperscissors.zip’ saved [322873683/322873683]\n",
            "\n"
          ],
          "name": "stdout"
        }
      ]
    },
    {
      "cell_type": "markdown",
      "metadata": {
        "id": "iHai_TvuF-sZ",
        "colab_type": "text"
      },
      "source": [
        "## Mengekstrak Dataset"
      ]
    },
    {
      "cell_type": "code",
      "metadata": {
        "id": "EI2mu9CXfLA-",
        "colab_type": "code",
        "colab": {}
      },
      "source": [
        "import zipfile, os\n",
        "\n",
        "local_zip = '/content/rockpaperscissors.zip'\n",
        "zip_ref = zipfile.ZipFile(local_zip, 'r')\n",
        "zip_ref.extractall('/content/')\n",
        "zip_ref.close()"
      ],
      "execution_count": 2,
      "outputs": []
    },
    {
      "cell_type": "markdown",
      "metadata": {
        "id": "iJzaibNlGJGY",
        "colab_type": "text"
      },
      "source": [
        "## Mendefinisikan Nama Direktori Folder Batu, Gunting, Kertas"
      ]
    },
    {
      "cell_type": "code",
      "metadata": {
        "id": "l18z1v07zUZp",
        "colab_type": "code",
        "colab": {}
      },
      "source": [
        "import os\n",
        "gunting_dir = os.path.join('/content/rockpaperscissors/scissors')\n",
        "batu_dir= os.path.join('/content/rockpaperscissors/rock')\n",
        "kertas_dir = os.path.join('/content/rockpaperscissors/paper')"
      ],
      "execution_count": 3,
      "outputs": []
    },
    {
      "cell_type": "markdown",
      "metadata": {
        "id": "6iStOMzQIZSy",
        "colab_type": "text"
      },
      "source": [
        "## Menentukan Jumlah Sample Yang Ada di Masing-Masing Folder"
      ]
    },
    {
      "cell_type": "code",
      "metadata": {
        "id": "II88fAGOIRhS",
        "colab_type": "code",
        "colab": {
          "base_uri": "https://localhost:8080/",
          "height": 70
        },
        "outputId": "e6eafc98-7963-4e0f-fbf5-f0e8f0b688b0"
      },
      "source": [
        "print('Jumlah gambar gunting pada folder scissors:', len(os.listdir(gunting_dir)))\n",
        "print('Jumlah gambar batu pada folder rock:', len(os.listdir(batu_dir)))\n",
        "print('Jumlah gambar kertas pada folder paper', len(os.listdir(kertas_dir)))"
      ],
      "execution_count": 4,
      "outputs": [
        {
          "output_type": "stream",
          "text": [
            "Jumlah gambar gunting pada folder scissors: 750\n",
            "Jumlah gambar batu pada folder rock: 726\n",
            "Jumlah gambar kertas pada folder paper 712\n"
          ],
          "name": "stdout"
        }
      ]
    },
    {
      "cell_type": "markdown",
      "metadata": {
        "id": "Cd3xL8IsIvII",
        "colab_type": "text"
      },
      "source": [
        "## Mengambil 3 Buah Sample File Dari Attribut Yang Ada Pada Folder"
      ]
    },
    {
      "cell_type": "code",
      "metadata": {
        "id": "taiyDzQ_I2Tc",
        "colab_type": "code",
        "colab": {
          "base_uri": "https://localhost:8080/",
          "height": 70
        },
        "outputId": "e088b11b-0347-4a9b-e097-2fc6272dce93"
      },
      "source": [
        "file_gunting = os.listdir(gunting_dir)\n",
        "print(\"Gunting:\",file_gunting[:3])\n",
        "\n",
        "file_batu = os.listdir(batu_dir)\n",
        "print(\"Batu:\",file_batu[:3])\n",
        "\n",
        "file_kertas = os.listdir(kertas_dir)\n",
        "print(\"Kertas:\",file_kertas[:3])"
      ],
      "execution_count": 5,
      "outputs": [
        {
          "output_type": "stream",
          "text": [
            "Gunting: ['hP1nFePk6ao9xKDF.png', 'd9N9D5ldS6PCfFXu.png', 'lPWbZ5JDB0gjIv2J.png']\n",
            "Batu: ['2O9XPBJRT119drWX.png', 'Hz5ynYPew6XqaLdO.png', 'n3ryKsLTPcGhpW6S.png']\n",
            "Kertas: ['wdUfwC8IoQbVtqzR.png', 'Qxx5l8WCNBjMb5xI.png', 'fSWSXO9fumLluiAF.png']\n"
          ],
          "name": "stdout"
        }
      ]
    },
    {
      "cell_type": "markdown",
      "metadata": {
        "id": "oYRpsB8ff2x9",
        "colab_type": "text"
      },
      "source": [
        "# ImageDataGenerator"
      ]
    },
    {
      "cell_type": "code",
      "metadata": {
        "id": "w_xfibVFWYrO",
        "colab_type": "code",
        "colab": {}
      },
      "source": [
        "import tensorflow as tf\n",
        "from tensorflow.keras.optimizers import RMSprop\n",
        "from tensorflow.keras.preprocessing.image import ImageDataGenerator"
      ],
      "execution_count": 6,
      "outputs": []
    },
    {
      "cell_type": "markdown",
      "metadata": {
        "id": "0u_AZPSxj-Xo",
        "colab_type": "text"
      },
      "source": [
        "# Augmentasi Gambar"
      ]
    },
    {
      "cell_type": "code",
      "metadata": {
        "id": "E2YaDrABglIx",
        "colab_type": "code",
        "colab": {}
      },
      "source": [
        "base_dir = '/content/rockpaperscissors/rps-cv-images/'\n",
        "training_datagen=ImageDataGenerator(\n",
        "    rescale=1./255,\n",
        "    rotation_range=40,\n",
        "    horizontal_flip=True,\n",
        "    shear_range=0.2,\n",
        "    zoom_range=0.2,\n",
        "    fill_mode='nearest',\n",
        "    width_shift_range=0.2,\n",
        "    height_shift_range=0.2,\n",
        "    # MEMECAH MENJADI DATA TRAIN DAN VALIDATION\n",
        "    validation_split=0.4\n",
        ")"
      ],
      "execution_count": 8,
      "outputs": []
    },
    {
      "cell_type": "markdown",
      "metadata": {
        "id": "__9ILYhTlpmv",
        "colab_type": "text"
      },
      "source": [
        "## Pelabelan Data Menggunakan Image Data Generator Berdasarkan Folder"
      ]
    },
    {
      "cell_type": "code",
      "metadata": {
        "id": "w7Wkl2p9t35a",
        "colab_type": "code",
        "colab": {
          "base_uri": "https://localhost:8080/",
          "height": 52
        },
        "outputId": "bb41a3df-f00f-4ad9-c87a-a94ea0b991bc"
      },
      "source": [
        "train_generator = training_datagen.flow_from_directory(\n",
        "    base_dir,\n",
        "    target_size=(150, 150),\n",
        "    class_mode='categorical',\n",
        "    shuffle=True,\n",
        "    subset='training'\n",
        ")\n",
        "\n",
        "validation_generator = training_datagen.flow_from_directory(\n",
        "    base_dir,\n",
        "    target_size=(150, 150),\n",
        "    class_mode='categorical',\n",
        "    shuffle=True,\n",
        "    subset='validation'\n",
        ")"
      ],
      "execution_count": 9,
      "outputs": [
        {
          "output_type": "stream",
          "text": [
            "Found 1314 images belonging to 3 classes.\n",
            "Found 874 images belonging to 3 classes.\n"
          ],
          "name": "stdout"
        }
      ]
    },
    {
      "cell_type": "markdown",
      "metadata": {
        "id": "syjSptIYwv76",
        "colab_type": "text"
      },
      "source": [
        "# Membuat Model Jaringan Saraf Tiruan Dengan Callback"
      ]
    },
    {
      "cell_type": "code",
      "metadata": {
        "id": "YOBkodZIRXlQ",
        "colab_type": "code",
        "colab": {}
      },
      "source": [
        "class myCallback(tf.keras.callbacks.Callback):\n",
        "  def on_epoch_end(self, epoch, logs={}):\n",
        "    if(logs.get('val_accuracy')>0.9):\n",
        "      print(\"\\n\\nPelatihan sukses, akurasi validasi sudah lebih dari 90%\")\n",
        "      self.model.stop_training=True\n",
        "\n",
        "callbacks = myCallback()"
      ],
      "execution_count": 10,
      "outputs": []
    },
    {
      "cell_type": "code",
      "metadata": {
        "id": "iaHfHUKi6Dfy",
        "colab_type": "code",
        "colab": {
          "base_uri": "https://localhost:8080/",
          "height": 514
        },
        "outputId": "07177223-b3a1-4ac2-d9a2-e6f9c692dedd"
      },
      "source": [
        "model = tf.keras.models.Sequential([\n",
        "                                    # Layer Input serta konvolusi pertama\n",
        "                                    tf.keras.layers.Conv2D(16, (3,3), activation='relu', input_shape=(150, 150, 3)),\n",
        "                                    tf.keras.layers.MaxPool2D(2, 2),\n",
        "                                    # Konvolusi kedua\n",
        "                                    tf.keras.layers.Conv2D(32, (3,3), activation='relu'),\n",
        "                                    tf.keras.layers.MaxPool2D(2, 2),\n",
        "                                    # Konvolusi ketiga\n",
        "                                    tf.keras.layers.Conv2D(32, (3,3), activation='relu'),\n",
        "                                    tf.keras.layers.MaxPool2D(2, 2),\n",
        "                                    # Mengubah gambar yang merupakan matriks 2 dimensi menjadi larik 1 dimensi\n",
        "                                    tf.keras.layers.Flatten(),\n",
        "                                    # Hiden layers pertama\n",
        "                                    tf.keras.layers.Dense(128, activation='relu'),\n",
        "                                    # Hiden layer kedua\n",
        "                                    tf.keras.layers.Dense(512, activation='relu'),\n",
        "                                    # Layer output\n",
        "                                    tf.keras.layers.Dense(3, activation='softmax')\n",
        "])\n",
        "\n",
        "model.summary()"
      ],
      "execution_count": 11,
      "outputs": [
        {
          "output_type": "stream",
          "text": [
            "Model: \"sequential\"\n",
            "_________________________________________________________________\n",
            "Layer (type)                 Output Shape              Param #   \n",
            "=================================================================\n",
            "conv2d (Conv2D)              (None, 148, 148, 16)      448       \n",
            "_________________________________________________________________\n",
            "max_pooling2d (MaxPooling2D) (None, 74, 74, 16)        0         \n",
            "_________________________________________________________________\n",
            "conv2d_1 (Conv2D)            (None, 72, 72, 32)        4640      \n",
            "_________________________________________________________________\n",
            "max_pooling2d_1 (MaxPooling2 (None, 36, 36, 32)        0         \n",
            "_________________________________________________________________\n",
            "conv2d_2 (Conv2D)            (None, 34, 34, 32)        9248      \n",
            "_________________________________________________________________\n",
            "max_pooling2d_2 (MaxPooling2 (None, 17, 17, 32)        0         \n",
            "_________________________________________________________________\n",
            "flatten (Flatten)            (None, 9248)              0         \n",
            "_________________________________________________________________\n",
            "dense (Dense)                (None, 128)               1183872   \n",
            "_________________________________________________________________\n",
            "dense_1 (Dense)              (None, 512)               66048     \n",
            "_________________________________________________________________\n",
            "dense_2 (Dense)              (None, 3)                 1539      \n",
            "=================================================================\n",
            "Total params: 1,265,795\n",
            "Trainable params: 1,265,795\n",
            "Non-trainable params: 0\n",
            "_________________________________________________________________\n"
          ],
          "name": "stdout"
        }
      ]
    },
    {
      "cell_type": "markdown",
      "metadata": {
        "id": "rmJMHax21uDz",
        "colab_type": "text"
      },
      "source": [
        "## Proses Compile Pada Model"
      ]
    },
    {
      "cell_type": "code",
      "metadata": {
        "id": "Z5D9RgZN0F56",
        "colab_type": "code",
        "colab": {}
      },
      "source": [
        "model.compile(loss='categorical_crossentropy',\n",
        "              optimizer='rmsprop', #saya menggunakan optimizer yang tidak diajarkan di kelas\n",
        "              metrics=['accuracy'])"
      ],
      "execution_count": 12,
      "outputs": []
    },
    {
      "cell_type": "markdown",
      "metadata": {
        "id": "2Cbg0bxU2n5d",
        "colab_type": "text"
      },
      "source": [
        "## Melatih Model Jaringan Saraf Tiruan"
      ]
    },
    {
      "cell_type": "code",
      "metadata": {
        "id": "nhlPeMto2s13",
        "colab_type": "code",
        "colab": {
          "base_uri": "https://localhost:8080/",
          "height": 1000
        },
        "outputId": "ef5f089c-50df-4753-9008-65506d057501"
      },
      "source": [
        "history=model.fit(\n",
        "    train_generator,\n",
        "    steps_per_epoch=4,\n",
        "    epochs=100,\n",
        "    validation_data=validation_generator,\n",
        "    validation_steps=4,\n",
        "    verbose=2,\n",
        "    callbacks=[callbacks])"
      ],
      "execution_count": 13,
      "outputs": [
        {
          "output_type": "stream",
          "text": [
            "Epoch 1/100\n",
            "4/4 - 5s - loss: 1.1901 - accuracy: 0.3438 - val_loss: 1.0911 - val_accuracy: 0.4219\n",
            "Epoch 2/100\n",
            "4/4 - 4s - loss: 1.1103 - accuracy: 0.3516 - val_loss: 1.0983 - val_accuracy: 0.4062\n",
            "Epoch 3/100\n",
            "4/4 - 4s - loss: 1.0981 - accuracy: 0.3594 - val_loss: 1.1052 - val_accuracy: 0.3203\n",
            "Epoch 4/100\n",
            "4/4 - 4s - loss: 1.1080 - accuracy: 0.2812 - val_loss: 1.0977 - val_accuracy: 0.3516\n",
            "Epoch 5/100\n",
            "4/4 - 4s - loss: 1.0894 - accuracy: 0.4219 - val_loss: 1.0946 - val_accuracy: 0.3359\n",
            "Epoch 6/100\n",
            "4/4 - 4s - loss: 1.0771 - accuracy: 0.3359 - val_loss: 1.1588 - val_accuracy: 0.2969\n",
            "Epoch 7/100\n",
            "4/4 - 4s - loss: 1.1570 - accuracy: 0.2857 - val_loss: 1.0864 - val_accuracy: 0.3594\n",
            "Epoch 8/100\n",
            "4/4 - 4s - loss: 1.0963 - accuracy: 0.2891 - val_loss: 1.0917 - val_accuracy: 0.3359\n",
            "Epoch 9/100\n",
            "4/4 - 4s - loss: 1.0879 - accuracy: 0.3906 - val_loss: 1.0791 - val_accuracy: 0.4375\n",
            "Epoch 10/100\n",
            "4/4 - 4s - loss: 1.1081 - accuracy: 0.3203 - val_loss: 1.0734 - val_accuracy: 0.3281\n",
            "Epoch 11/100\n",
            "4/4 - 4s - loss: 1.0807 - accuracy: 0.4219 - val_loss: 1.0593 - val_accuracy: 0.4844\n",
            "Epoch 12/100\n",
            "4/4 - 4s - loss: 1.0486 - accuracy: 0.4844 - val_loss: 1.2195 - val_accuracy: 0.3516\n",
            "Epoch 13/100\n",
            "4/4 - 4s - loss: 1.0997 - accuracy: 0.3672 - val_loss: 1.0654 - val_accuracy: 0.4062\n",
            "Epoch 14/100\n",
            "4/4 - 4s - loss: 1.0263 - accuracy: 0.5078 - val_loss: 1.0847 - val_accuracy: 0.4141\n",
            "Epoch 15/100\n",
            "4/4 - 4s - loss: 1.1913 - accuracy: 0.4609 - val_loss: 1.0432 - val_accuracy: 0.5234\n",
            "Epoch 16/100\n",
            "4/4 - 3s - loss: 1.0560 - accuracy: 0.4796 - val_loss: 1.0843 - val_accuracy: 0.4062\n",
            "Epoch 17/100\n",
            "4/4 - 4s - loss: 1.0359 - accuracy: 0.4297 - val_loss: 1.0959 - val_accuracy: 0.4219\n",
            "Epoch 18/100\n",
            "4/4 - 4s - loss: 1.0711 - accuracy: 0.4531 - val_loss: 1.0654 - val_accuracy: 0.4922\n",
            "Epoch 19/100\n",
            "4/4 - 4s - loss: 1.0148 - accuracy: 0.5312 - val_loss: 1.1293 - val_accuracy: 0.3750\n",
            "Epoch 20/100\n",
            "4/4 - 4s - loss: 1.0481 - accuracy: 0.4922 - val_loss: 1.0627 - val_accuracy: 0.3906\n",
            "Epoch 21/100\n",
            "4/4 - 4s - loss: 1.0012 - accuracy: 0.5156 - val_loss: 1.0674 - val_accuracy: 0.3906\n",
            "Epoch 22/100\n",
            "4/4 - 4s - loss: 1.0339 - accuracy: 0.4922 - val_loss: 1.1142 - val_accuracy: 0.4375\n",
            "Epoch 23/100\n",
            "4/4 - 4s - loss: 1.0018 - accuracy: 0.5469 - val_loss: 1.0271 - val_accuracy: 0.4297\n",
            "Epoch 24/100\n",
            "4/4 - 4s - loss: 0.9475 - accuracy: 0.5234 - val_loss: 1.0020 - val_accuracy: 0.5078\n",
            "Epoch 25/100\n",
            "4/4 - 4s - loss: 0.9967 - accuracy: 0.6016 - val_loss: 0.9610 - val_accuracy: 0.5469\n",
            "Epoch 26/100\n",
            "4/4 - 4s - loss: 0.9632 - accuracy: 0.5938 - val_loss: 0.9328 - val_accuracy: 0.6016\n",
            "Epoch 27/100\n",
            "4/4 - 3s - loss: 1.0390 - accuracy: 0.5102 - val_loss: 1.0019 - val_accuracy: 0.4922\n",
            "Epoch 28/100\n",
            "4/4 - 4s - loss: 0.9983 - accuracy: 0.5469 - val_loss: 0.9265 - val_accuracy: 0.6250\n",
            "Epoch 29/100\n",
            "4/4 - 4s - loss: 0.9498 - accuracy: 0.5234 - val_loss: 0.8873 - val_accuracy: 0.6094\n",
            "Epoch 30/100\n",
            "4/4 - 4s - loss: 0.9736 - accuracy: 0.4688 - val_loss: 0.9097 - val_accuracy: 0.5156\n",
            "Epoch 31/100\n",
            "4/4 - 4s - loss: 0.9869 - accuracy: 0.5469 - val_loss: 0.8857 - val_accuracy: 0.6797\n",
            "Epoch 32/100\n",
            "4/4 - 4s - loss: 0.8862 - accuracy: 0.6016 - val_loss: 0.8702 - val_accuracy: 0.6016\n",
            "Epoch 33/100\n",
            "4/4 - 4s - loss: 0.7911 - accuracy: 0.6641 - val_loss: 0.9189 - val_accuracy: 0.5312\n",
            "Epoch 34/100\n",
            "4/4 - 4s - loss: 0.8808 - accuracy: 0.5859 - val_loss: 0.9413 - val_accuracy: 0.5156\n",
            "Epoch 35/100\n",
            "4/4 - 4s - loss: 0.8001 - accuracy: 0.6797 - val_loss: 0.8493 - val_accuracy: 0.6328\n",
            "Epoch 36/100\n",
            "4/4 - 4s - loss: 1.0854 - accuracy: 0.5469 - val_loss: 0.9348 - val_accuracy: 0.5312\n",
            "Epoch 37/100\n",
            "4/4 - 4s - loss: 0.8265 - accuracy: 0.6250 - val_loss: 0.7778 - val_accuracy: 0.6328\n",
            "Epoch 38/100\n",
            "4/4 - 4s - loss: 0.7437 - accuracy: 0.7188 - val_loss: 0.8018 - val_accuracy: 0.7188\n",
            "Epoch 39/100\n",
            "4/4 - 4s - loss: 0.7432 - accuracy: 0.7266 - val_loss: 0.9111 - val_accuracy: 0.5938\n",
            "Epoch 40/100\n",
            "4/4 - 4s - loss: 0.7482 - accuracy: 0.6797 - val_loss: 0.9193 - val_accuracy: 0.6328\n",
            "Epoch 41/100\n",
            "4/4 - 4s - loss: 1.0276 - accuracy: 0.5714 - val_loss: 0.7554 - val_accuracy: 0.6562\n",
            "Epoch 42/100\n",
            "4/4 - 4s - loss: 0.7137 - accuracy: 0.7109 - val_loss: 0.6990 - val_accuracy: 0.7109\n",
            "Epoch 43/100\n",
            "4/4 - 4s - loss: 0.9285 - accuracy: 0.6250 - val_loss: 0.6986 - val_accuracy: 0.6719\n",
            "Epoch 44/100\n",
            "4/4 - 4s - loss: 0.7259 - accuracy: 0.7266 - val_loss: 0.6120 - val_accuracy: 0.7656\n",
            "Epoch 45/100\n",
            "4/4 - 4s - loss: 0.6187 - accuracy: 0.7812 - val_loss: 0.6621 - val_accuracy: 0.7109\n",
            "Epoch 46/100\n",
            "4/4 - 4s - loss: 0.7448 - accuracy: 0.6875 - val_loss: 0.6314 - val_accuracy: 0.7578\n",
            "Epoch 47/100\n",
            "4/4 - 4s - loss: 0.7058 - accuracy: 0.7109 - val_loss: 0.7585 - val_accuracy: 0.6953\n",
            "Epoch 48/100\n",
            "4/4 - 4s - loss: 0.6699 - accuracy: 0.7031 - val_loss: 0.7219 - val_accuracy: 0.7266\n",
            "Epoch 49/100\n",
            "4/4 - 4s - loss: 0.6507 - accuracy: 0.7422 - val_loss: 0.6050 - val_accuracy: 0.7422\n",
            "Epoch 50/100\n",
            "4/4 - 4s - loss: 0.6748 - accuracy: 0.7188 - val_loss: 1.0631 - val_accuracy: 0.5078\n",
            "Epoch 51/100\n",
            "4/4 - 4s - loss: 0.7081 - accuracy: 0.6719 - val_loss: 0.6550 - val_accuracy: 0.7344\n",
            "Epoch 52/100\n",
            "4/4 - 4s - loss: 0.6224 - accuracy: 0.7656 - val_loss: 0.6511 - val_accuracy: 0.7344\n",
            "Epoch 53/100\n",
            "4/4 - 4s - loss: 0.6983 - accuracy: 0.7143 - val_loss: 1.1403 - val_accuracy: 0.5391\n",
            "Epoch 54/100\n",
            "4/4 - 4s - loss: 0.5811 - accuracy: 0.7734 - val_loss: 0.6557 - val_accuracy: 0.7266\n",
            "Epoch 55/100\n",
            "4/4 - 4s - loss: 0.7495 - accuracy: 0.7031 - val_loss: 0.6223 - val_accuracy: 0.7266\n",
            "Epoch 56/100\n",
            "4/4 - 4s - loss: 0.5097 - accuracy: 0.7969 - val_loss: 0.5259 - val_accuracy: 0.7812\n",
            "Epoch 57/100\n",
            "4/4 - 4s - loss: 0.5803 - accuracy: 0.7734 - val_loss: 0.7621 - val_accuracy: 0.7109\n",
            "Epoch 58/100\n",
            "4/4 - 4s - loss: 0.7011 - accuracy: 0.7578 - val_loss: 0.5405 - val_accuracy: 0.7969\n",
            "Epoch 59/100\n",
            "4/4 - 4s - loss: 0.6813 - accuracy: 0.6875 - val_loss: 0.5006 - val_accuracy: 0.8203\n",
            "Epoch 60/100\n",
            "4/4 - 4s - loss: 0.5660 - accuracy: 0.7969 - val_loss: 0.5350 - val_accuracy: 0.7812\n",
            "Epoch 61/100\n",
            "4/4 - 4s - loss: 0.7483 - accuracy: 0.6562 - val_loss: 0.7937 - val_accuracy: 0.6406\n",
            "Epoch 62/100\n",
            "4/4 - 4s - loss: 0.5510 - accuracy: 0.8047 - val_loss: 0.5279 - val_accuracy: 0.7812\n",
            "Epoch 63/100\n",
            "4/4 - 4s - loss: 0.5190 - accuracy: 0.7656 - val_loss: 0.5792 - val_accuracy: 0.7500\n",
            "Epoch 64/100\n",
            "4/4 - 4s - loss: 0.5464 - accuracy: 0.7969 - val_loss: 0.5614 - val_accuracy: 0.7656\n",
            "Epoch 65/100\n",
            "4/4 - 4s - loss: 0.9398 - accuracy: 0.6429 - val_loss: 0.6341 - val_accuracy: 0.7266\n",
            "Epoch 66/100\n",
            "4/4 - 4s - loss: 0.6338 - accuracy: 0.7109 - val_loss: 0.8499 - val_accuracy: 0.6250\n",
            "Epoch 67/100\n",
            "4/4 - 3s - loss: 0.5342 - accuracy: 0.7959 - val_loss: 0.7067 - val_accuracy: 0.6953\n",
            "Epoch 68/100\n",
            "4/4 - 4s - loss: 0.5477 - accuracy: 0.7734 - val_loss: 0.4993 - val_accuracy: 0.7969\n",
            "Epoch 69/100\n",
            "4/4 - 4s - loss: 0.5228 - accuracy: 0.7734 - val_loss: 0.7413 - val_accuracy: 0.7109\n",
            "Epoch 70/100\n",
            "4/4 - 4s - loss: 0.6425 - accuracy: 0.7266 - val_loss: 0.5564 - val_accuracy: 0.7578\n",
            "Epoch 71/100\n",
            "4/4 - 3s - loss: 0.4605 - accuracy: 0.8163 - val_loss: 0.5596 - val_accuracy: 0.7500\n",
            "Epoch 72/100\n",
            "4/4 - 4s - loss: 0.5467 - accuracy: 0.7969 - val_loss: 0.6683 - val_accuracy: 0.6797\n",
            "Epoch 73/100\n",
            "4/4 - 4s - loss: 0.5286 - accuracy: 0.8125 - val_loss: 0.3858 - val_accuracy: 0.8594\n",
            "Epoch 74/100\n",
            "4/4 - 4s - loss: 0.5683 - accuracy: 0.7653 - val_loss: 0.4908 - val_accuracy: 0.8438\n",
            "Epoch 75/100\n",
            "4/4 - 4s - loss: 0.6365 - accuracy: 0.7734 - val_loss: 0.4937 - val_accuracy: 0.8438\n",
            "Epoch 76/100\n",
            "4/4 - 4s - loss: 0.3947 - accuracy: 0.8594 - val_loss: 0.4007 - val_accuracy: 0.8359\n",
            "Epoch 77/100\n",
            "4/4 - 4s - loss: 0.4857 - accuracy: 0.8438 - val_loss: 0.6918 - val_accuracy: 0.7500\n",
            "Epoch 78/100\n",
            "4/4 - 4s - loss: 0.6177 - accuracy: 0.7734 - val_loss: 0.4714 - val_accuracy: 0.8203\n",
            "Epoch 79/100\n",
            "4/4 - 4s - loss: 0.4836 - accuracy: 0.7969 - val_loss: 0.4331 - val_accuracy: 0.8438\n",
            "Epoch 80/100\n",
            "4/4 - 4s - loss: 0.6548 - accuracy: 0.7109 - val_loss: 0.6309 - val_accuracy: 0.7188\n",
            "Epoch 81/100\n",
            "\n",
            "\n",
            "Pelatihan sukses, akurasi validasi sudah lebih dari 90%\n",
            "4/4 - 4s - loss: 0.4551 - accuracy: 0.8125 - val_loss: 0.3073 - val_accuracy: 0.9219\n"
          ],
          "name": "stdout"
        }
      ]
    },
    {
      "cell_type": "markdown",
      "metadata": {
        "id": "M2NmemIJTtUc",
        "colab_type": "text"
      },
      "source": [
        "## Visualisasi Plot Akurasi Dan Loss"
      ]
    },
    {
      "cell_type": "code",
      "metadata": {
        "id": "B97R_GngXn2c",
        "colab_type": "code",
        "colab": {
          "base_uri": "https://localhost:8080/",
          "height": 281
        },
        "outputId": "309095e1-6dcb-48c7-d15c-af568be73fea"
      },
      "source": [
        "import matplotlib.pyplot as plt\n",
        "\n",
        "acc = history.history['accuracy']\n",
        "val_acc = history.history['val_accuracy']\n",
        "loss = history.history['loss']\n",
        "val_loss = history.history['val_loss']\n",
        "\n",
        "epochs = range(len(acc))\n",
        "\n",
        "plt.plot(epochs, acc, 'r', label='Training accuracy')\n",
        "plt.plot(epochs, val_acc, 'b', label='Validation accuracy')\n",
        "plt.title('Training and validation accuracy')\n",
        "plt.legend(loc=0)\n",
        "plt.show()"
      ],
      "execution_count": 14,
      "outputs": [
        {
          "output_type": "display_data",
          "data": {
            "image/png": "[encoded data removed]",
            "text/plain": [
              "<Figure size 432x288 with 1 Axes>"
            ]
          },
          "metadata": {
            "tags": [],
            "needs_background": "light"
          }
        }
      ]
    },
    {
      "cell_type": "markdown",
      "metadata": {
        "id": "rsPEpCGhEx_x",
        "colab_type": "text"
      },
      "source": [
        "# Tahap Uji Coba"
      ]
    },
    {
      "cell_type": "code",
      "metadata": {
        "id": "uhFTwWDxbj6N",
        "colab_type": "code",
        "colab": {
          "resources": {
            "http://localhost:8080/nbextensions/google.colab/files.js": {
              "data": "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",
              "ok": true,
              "headers": [
                [
                  "content-type",
                  "application/javascript"
                ]
              ],
              "status": 200,
              "status_text": ""
            }
          },
          "base_uri": "https://localhost:8080/",
          "height": 360
        },
        "outputId": "23779851-45e4-4cc4-a3be-73f0c0a1075e"
      },
      "source": [
        "import numpy as np\n",
        "import matplotlib.pyplot as plt\n",
        "import matplotlib.image as mpimg\n",
        "from keras.preprocessing import image\n",
        "from google.colab import files\n",
        "\n",
        "uploaded = files.upload()\n",
        "\n",
        "for fn in uploaded.keys():\n",
        "\n",
        "  path = fn\n",
        "  img = image.load_img(path, target_size=(150, 150))\n",
        "  imgplot = plt.imshow(img)\n",
        "  x = image.img_to_array(img)\n",
        "  x = np.expand_dims(x, axis=0)\n",
        "\n",
        "  images = np.vstack([x])\n",
        "  classes = model.predict(images, batch_size=10)\n",
        "  print(fn)\n",
        "  if classes[0][0]==1:\n",
        "    print('Ini adalah Kertas')\n",
        "  elif classes[0][1]==1:\n",
        "    print('Ini adalah Batu')\n",
        "  elif classes[0][2]==1:\n",
        "    print('Ini adalah Gunting')\n",
        "  else:\n",
        "    print('Tidak Diketahui')"
      ],
      "execution_count": 20,
      "outputs": [
        {
          "output_type": "display_data",
          "data": {
            "text/html": [
              "\n",
              "     <input type=\"file\" id=\"files-3f0a7f43-122c-49b4-8980-5dc82d557d43\" name=\"files[]\" multiple disabled\n",
              "        style=\"border:none\" />\n",
              "     <output id=\"result-3f0a7f43-122c-49b4-8980-5dc82d557d43\">\n",
              "      Upload widget is only available when the cell has been executed in the\n",
              "      current browser session. Please rerun this cell to enable.\n",
              "      </output>\n",
              "      <script src=\"/nbextensions/google.colab/files.js\"></script> "
            ],
            "text/plain": [
              "<IPython.core.display.HTML object>"
            ]
          },
          "metadata": {
            "tags": []
          }
        },
        {
          "output_type": "stream",
          "text": [
            "Saving 00nKV8oHuTGi20gq.png to 00nKV8oHuTGi20gq.png\n",
            "00nKV8oHuTGi20gq.png\n",
            "Ini adalah Batu\n"
          ],
          "name": "stdout"
        },
        {
          "output_type": "display_data",
          "data": {
            "image/png": "[encoded data removed]",
            "text/plain": [
              "<Figure size 432x288 with 1 Axes>"
            ]
          },
          "metadata": {
            "tags": [],
            "needs_background": "light"
          }
        }
      ]
    }
  ]
}